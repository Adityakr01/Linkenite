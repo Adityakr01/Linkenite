{
  "nbformat": 4,
  "nbformat_minor": 0,
  "metadata": {
    "colab": {
      "provenance": []
    },
    "kernelspec": {
      "name": "python3",
      "display_name": "Python 3"
    },
    "language_info": {
      "name": "python"
    }
  },
  "cells": [
    {
      "cell_type": "code",
      "execution_count": 1,
      "metadata": {
        "colab": {
          "base_uri": "https://localhost:8080/"
        },
        "id": "1yL1Pxem-NFk",
        "outputId": "d6c3c47c-e43b-4fd4-89ae-2f4f2d498246"
      },
      "outputs": [
        {
          "output_type": "stream",
          "name": "stdout",
          "text": [
            "\n",
            "DataFrame with extracted information:\n",
            "| sender              | subject                                    | body                                                                                                       | extracted_phone   | extracted_email   |\n",
            "|:--------------------|:-------------------------------------------|:-----------------------------------------------------------------------------------------------------------|:------------------|:------------------|\n",
            "| eve@startup.io      | Help required with account verification    | Do you support integration with third-party APIs? Specifically, I’m looking for CRM integration options.   |                   |                   |\n",
            "| diana@client.co     | General query about subscription           | Hi team, I am unable to log into my account since yesterday. Could you please help me resolve this issue?  |                   |                   |\n",
            "| eve@startup.io      | Immediate support needed for billing error | Hello, I wanted to understand the pricing tiers better. Could you share a detailed breakdown?              |                   |                   |\n",
            "| alice@example.com   | Urgent request: system access blocked      | Hi team, I am unable to log into my account since yesterday. Could you please help me resolve this issue?  |                   |                   |\n",
            "| eve@startup.io      | Question: integration with API             | Despite multiple attempts, I cannot reset my password. The reset link doesn’t seem to work.                |                   |                   |\n",
            "| alice@example.com   | Critical help needed for downtime          | Hi team, I am unable to log into my account since yesterday. Could you please help me resolve this issue?  |                   |                   |\n",
            "| diana@client.co     | Help required with account verification    | There is a billing error where I was charged twice. This needs immediate correction.                       |                   |                   |\n",
            "| diana@client.co     | Support needed for login issue             | I am facing issues with verifying my account. The verification email never arrived. Can you assist?        |                   |                   |\n",
            "| alice@example.com   | General query about subscription           | Our servers are down, and we need immediate support. This is highly critical.                              |                   |                   |\n",
            "| alice@example.com   | Help required with account verification    | Do you support integration with third-party APIs? Specifically, I’m looking for CRM integration options.   |                   |                   |\n",
            "| diana@client.co     | Support needed for login issue             | Hi team, I am unable to log into my account since yesterday. Could you please help me resolve this issue?  |                   |                   |\n",
            "| alice@example.com   | Help required with account verification    | Do you support integration with third-party APIs? Specifically, I’m looking for CRM integration options.   |                   |                   |\n",
            "| eve@startup.io      | Critical help needed for downtime          | Our servers are down, and we need immediate support. This is highly critical.                              |                   |                   |\n",
            "| alice@example.com   | Query about product pricing                | There is a billing error where I was charged twice. This needs immediate correction.                       |                   |                   |\n",
            "| alice@example.com   | General query about subscription           | I am facing issues with verifying my account. The verification email never arrived. Can you assist?        |                   |                   |\n",
            "| alice@example.com   | Immediate support needed for billing error | Despite multiple attempts, I cannot reset my password. The reset link doesn’t seem to work.                |                   |                   |\n",
            "| charlie@partner.org | Help required with account verification    | This is urgent – our system is completely inaccessible, and this is affecting our operations.              |                   |                   |\n",
            "| diana@client.co     | Request for refund process clarification   | Could you clarify the steps involved in requesting a refund? I submitted one last week but have no update. |                   |                   |\n",
            "| eve@startup.io      | Query about product pricing                | Our servers are down, and we need immediate support. This is highly critical.                              |                   |                   |\n",
            "| bob@customer.com    | Urgent request: system access blocked      | Despite multiple attempts, I cannot reset my password. The reset link doesn’t seem to work.                |                   |                   |\n"
          ]
        }
      ],
      "source": [
        "import pandas as pd\n",
        "import re\n",
        "\n",
        "# Load the previously created CSV file with filtered and categorized emails\n",
        "file_path = '/content/68b1acd44f393_Sample_Support_Emails_Dataset (2).csv'\n",
        "try:\n",
        "    df = pd.read_csv(file_path)\n",
        "except FileNotFoundError:\n",
        "    print(f\"File not found: {file_path}. Please make sure you have run the previous code cell to create this file.\")\n",
        "    exit()\n",
        "\n",
        "# Define regular expressions for extracting information\n",
        "# This regex looks for patterns that resemble a phone number\n",
        "phone_regex = r'\\b(\\+\\d{1,2}\\s?)?\\(?\\d{3}\\)?[\\s.-]?\\d{3}[\\s.-]?\\d{4}\\b'\n",
        "# This regex looks for a standard email address format\n",
        "email_regex = r'\\b[A-Za-z0-9._%+-]+@[A-Za-z0-9.-]+\\.[A-Z|a-z]{2,}\\b'\n",
        "\n",
        "# Function to extract information using regex\n",
        "def extract_info(text, regex):\n",
        "    if pd.isna(text):\n",
        "        return None\n",
        "    found_info = re.findall(regex, str(text))\n",
        "    return ', '.join(found_info) if found_info else None\n",
        "\n",
        "# Apply the extraction functions to the 'body' column\n",
        "df['extracted_phone'] = df['body'].apply(lambda x: extract_info(x, phone_regex))\n",
        "df['extracted_email'] = df['body'].apply(lambda x: extract_info(x, email_regex))\n",
        "\n",
        "# Display the updated DataFrame with the new columns\n",
        "print(\"\\nDataFrame with extracted information:\")\n",
        "print(df[['sender', 'subject', 'body', 'extracted_phone', 'extracted_email']].to_markdown(index=False, numalign=\"left\", stralign=\"left\"))\n",
        "\n",
        "# Save the updated DataFrame to a new CSV file\n",
        "df.to_csv('emails_with_extracted_info.csv', index=False)"
      ]
    }
  ]
}